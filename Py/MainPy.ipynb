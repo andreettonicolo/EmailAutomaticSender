{
 "cells": [
  {
   "cell_type": "code",
   "execution_count": 1,
   "id": "b2d6d7fb-a9ea-49b3-8cc7-bb5ad94a4e75",
   "metadata": {},
   "outputs": [],
   "source": [
    "#Import vari\n",
    "\n",
    "import smtplib, ssl\n",
    "import openpyxl\n",
    "import pandas as pd\n",
    "from email.mime.text import MIMEText\n",
    "from email.mime.multipart import MIMEMultipart\n"
   ]
  },
  {
   "cell_type": "code",
   "execution_count": 2,
   "id": "0c471e42-9f43-49a0-9f0d-f0f462c2d2f0",
   "metadata": {},
   "outputs": [],
   "source": [
    "#Credenziali e percorsi\n",
    "\n",
    "# Definisci le tue credenziali di accesso al tuo account email\n",
    "email = 'commerciale@4digits.it' \n",
    "password = 'kH10J3nLM!bd'\n",
    "nMailDaInviare = 20\n",
    "oggettoEmail_path = '../Oggetto_Email.txt'\n",
    "\n",
    "#Definisci dati del file excel da cui prendere le mail\n",
    "nomeExcelDestinatari = '../Excel/Test.xlsx'\n",
    "sheet_name='Sheet1'\n",
    "colonnaEmail = 'Business Email_1'\n",
    "\n",
    "#Definisci dati del file excel dove scrivere i dati dei dentisti già \"usati\"\n",
    "nomeExcelInviati = '../Excel/Inviati.xlsx'\n",
    "\n",
    "#Contenuto mail\n",
    "testo = '../Testo_Email.txt'\n",
    "\n",
    "#Codice footer html\n",
    "html = 'footer.html'    "
   ]
  },
  {
   "cell_type": "code",
   "execution_count": 3,
   "id": "3065d1ee-5042-4107-aa78-84907ebdd174",
   "metadata": {},
   "outputs": [],
   "source": [
    "#Pulisce il file con le email già usate e le salva su un nuovo file\n",
    "\n",
    "def PulizziaFile():\n",
    "    excelGrezzo = pd.read_excel(nomeExcelDestinatari, sheet_name) #Test\n",
    "    excelDestinatari = excelGrezzo.head(nMailDaInviare) #prende i primi 20 a cui mandare oggi la mail\n",
    "    excelNuovo = excelGrezzo.iloc[20:] #elimina i primi 20 dal grezzo\n",
    "    excelNuovo.to_excel(nomeExcelDestinatari, sheet_name, index=False) #sovrascrive tutto su iviati.excel\n",
    "    excelInviati = pd.read_excel(nomeExcelInviati, sheet_name) #legge gli inviati in precedenza\n",
    "    df_updated = pd.concat([excelInviati, excelDestinatari], ignore_index=True) #unisce quelli attuali con quelli inviati in precedenza\n",
    "    df_updated.to_excel(nomeExcelInviati, sheet_name, index=False) #sovrascrive tutto su iviati.excel\n",
    "\n",
    "\n"
   ]
  },
  {
   "cell_type": "code",
   "execution_count": 4,
   "id": "7cf636ac-b876-42ef-b22e-955585e5a670",
   "metadata": {},
   "outputs": [],
   "source": [
    "# Leggi l'oggetto del messaggio dal file di testo\n",
    "with open(oggettoEmail_path, 'r') as file:\n",
    "    oggettoEmail = file.read()"
   ]
  },
  {
   "cell_type": "code",
   "execution_count": 5,
   "id": "8b44fb8d",
   "metadata": {},
   "outputs": [],
   "source": [
    "# Leggi il testo del messaggio dal file di testo\n",
    "with open(testo, 'r') as file:\n",
    "    testo_messaggio = file.read()"
   ]
  },
  {
   "cell_type": "code",
   "execution_count": 6,
   "id": "0e33607c",
   "metadata": {},
   "outputs": [],
   "source": [
    "#Legge il codice html per il footer\n",
    "\n",
    "with open(html, 'r') as file:\n",
    "    codiceHtml = file.read()"
   ]
  },
  {
   "cell_type": "code",
   "execution_count": 7,
   "id": "ea2f420a-6be3-4fac-bc36-ac8f34f3d774",
   "metadata": {},
   "outputs": [],
   "source": [
    "#Funzione creazione messaggio\n",
    "\n",
    "def creaMessaggio():\n",
    "    # Crea il messaggio\n",
    "    messaggio = MIMEMultipart()\n",
    "    messaggio['From'] = \"4Digits<\"+email+\">\"\n",
    "    messaggio['Subject'] = oggettoEmail\n",
    "    # Aggiungi il testo del messaggio al corpo dell'email\n",
    "\n",
    "    #Aggiungi footer al messaggio\n",
    "\n",
    "\n",
    "    messaggio.attach(MIMEText(testo_messaggio, 'plain'))\n",
    "    \n",
    "    messaggio.attach(MIMEText(codiceHtml, \"html\"))\n",
    "\n",
    "\n",
    "    \n",
    "    \n",
    "\n",
    "    return messaggio"
   ]
  },
  {
   "cell_type": "code",
   "execution_count": 8,
   "id": "b088c4be-b96a-4b81-b990-7f31704c93bc",
   "metadata": {},
   "outputs": [],
   "source": [
    "# Invia l'email a ciascun destinatario\n",
    "def invioMail(destinatari):\n",
    "\n",
    "    for destinatario in destinatari:\n",
    "        \n",
    "        messaggio = creaMessaggio()\n",
    "        \n",
    "        try:\n",
    "            messaggio['To'] = destinatario\n",
    "            #server = smtplib.SMTP('smtp.4digits.it', 25) # Imposta il server SMTP del tuo provider email\n",
    "            \n",
    "            server = smtplib.SMTP_SSL('smtps.aruba.it', 465) # Imposta il server SMTP del tuo provider email\n",
    "            \n",
    "            #server = smtplib.SMTP('smtps.aruba.it', 465) # Imposta il server SMTP del tuo provider email\n",
    "            #server.starttls()\n",
    "            server.login(email, password)\n",
    "            testo_email = messaggio.as_string()\n",
    "            server.sendmail(email, destinatario, testo_email)\n",
    "            server.quit()\n",
    "        except Exception as e:\n",
    "        # Print any error messages to stdout\n",
    "                print(e)\n",
    "            "
   ]
  },
  {
   "cell_type": "code",
   "execution_count": 9,
   "id": "1fb7d359-bfa7-414b-9d70-f9c8a77211dc",
   "metadata": {},
   "outputs": [
    {
     "name": "stdout",
     "output_type": "stream",
     "text": [
      "['andreettonicolo@gmail.com', 'andreettonicolo@gmail.com', 'andreettonicolo@gmail.com', 'andreettonicolo@gmail.com', 'andreettonicolo@gmail.com', 'andreettonicolo@gmail.com', 'andreettonicolo@gmail.com', 'andreettonicolo@gmail.com', 'andreettonicolo@gmail.com', 'andreettonicolo@gmail.com', 'andreettonicolo@gmail.com', 'andreettonicolo@gmail.com', 'andreettonicolo@gmail.com', 'andreettonicolo@gmail.com', 'andreettonicolo@gmail.com', 'andreettonicolo@gmail.com', 'andreettonicolo@gmail.com', 'andreettonicolo@gmail.com', 'andreettonicolo@gmail.com', 'andreettonicolo@gmail.com']\n",
      "Le email sono state inviate correttamente\n"
     ]
    }
   ],
   "source": [
    "# Leggi i primi 20 destinatari dal file Excel\n",
    "destinatari = pd.read_excel(nomeExcelDestinatari, sheet_name)\n",
    "destinatari = destinatari[colonnaEmail].head(nMailDaInviare).tolist()\n",
    "\n",
    "print(destinatari)\n",
    "\n",
    "\n",
    "invioMail(destinatari) #Richiama anche creaMessaggio\n",
    "\n",
    "#PulizziaFile()\n",
    "\n",
    "print('Le email sono state inviate correttamente')\n",
    "\n"
   ]
  },
  {
   "cell_type": "code",
   "execution_count": null,
   "id": "3b3c1d1d-c977-4ae0-9779-af635cd545f7",
   "metadata": {},
   "outputs": [],
   "source": []
  },
  {
   "cell_type": "code",
   "execution_count": null,
   "id": "0f0377ab-196f-4718-98fa-b37203fadc0f",
   "metadata": {},
   "outputs": [],
   "source": []
  }
 ],
 "metadata": {
  "kernelspec": {
   "display_name": "Python 3 (ipykernel)",
   "language": "python",
   "name": "python3"
  },
  "language_info": {
   "codemirror_mode": {
    "name": "ipython",
    "version": 3
   },
   "file_extension": ".py",
   "mimetype": "text/x-python",
   "name": "python",
   "nbconvert_exporter": "python",
   "pygments_lexer": "ipython3",
   "version": "3.11.0"
  }
 },
 "nbformat": 4,
 "nbformat_minor": 5
}
